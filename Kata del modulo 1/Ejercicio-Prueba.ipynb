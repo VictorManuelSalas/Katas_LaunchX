{
 "cells": [
  {
   "cell_type": "markdown",
   "metadata": {},
   "source": [
    "# Modulo 1 Kata 1"
   ]
  },
  {
   "cell_type": "markdown",
   "metadata": {},
   "source": [
    "### Mi primer programa\n",
    "Debo usar los conceptos aprendidos de la documentacion. \n",
    "Finaliza el código siguiente para que el resultado muestre la fecha de hoy.\n",
    "\n",
    "from datetime import date\n",
    "print(\"Today's date is: \")"
   ]
  },
  {
   "cell_type": "code",
   "execution_count": 1,
   "metadata": {},
   "outputs": [
    {
     "name": "stdout",
     "output_type": "stream",
     "text": [
      "Today's date is: 2022-02-09\n"
     ]
    }
   ],
   "source": [
    "from datetime import date\n",
    "\n",
    "print(\"Today's date is: \" + str(date.today()))"
   ]
  },
  {
   "cell_type": "markdown",
   "metadata": {},
   "source": [
    "# Construir un convertidor de unidades\n",
    "El oficial superior> \"Necesito una cosa más: un programa de conversión entre parsecs y años luz. Tener un programa de este tipo podría ser realmente útil en el puente para trazar nuestro curso\".\n",
    "\n",
    "Tú> \"¡Lo haré!\"\n",
    "\n",
    "parsec = 11\n",
    "\n",
    "lightyears = 0\n",
    "\n",
    "print(str(parsec) + \" parsec, is \" + str(lightyears) + \" lightyears\")\n",
    "\n",
    "[!TIP] 1 parsec es 3.26156 años luz. Utiliza el operador de multiplicación."
   ]
  },
  {
   "cell_type": "code",
   "execution_count": 3,
   "metadata": {},
   "outputs": [
    {
     "name": "stdout",
     "output_type": "stream",
     "text": [
      "11 parsec, is 35.877159999999996 lightyears\n"
     ]
    }
   ],
   "source": [
    "parsec = 11\n",
    "\n",
    "lightyears = parsec * 3.26156\n",
    "\n",
    "print(str(parsec) + \" parsec, is \" + str(lightyears) + \" lightyears\")"
   ]
  }
 ],
 "metadata": {
  "interpreter": {
   "hash": "1ed2ac756272916694725547e72951369fa18b03b60a6d9a570d7cafc9b3a08b"
  },
  "kernelspec": {
   "display_name": "Python 3.9.5 64-bit",
   "language": "python",
   "name": "python3"
  },
  "language_info": {
   "codemirror_mode": {
    "name": "ipython",
    "version": 3
   },
   "file_extension": ".py",
   "mimetype": "text/x-python",
   "name": "python",
   "nbconvert_exporter": "python",
   "pygments_lexer": "ipython3",
   "version": "3.9.5"
  },
  "orig_nbformat": 4
 },
 "nbformat": 4,
 "nbformat_minor": 2
}
